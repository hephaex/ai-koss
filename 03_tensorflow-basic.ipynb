{
 "cells": [
  {
   "cell_type": "markdown",
   "metadata": {},
   "source": [
    "# 계산 그래프 (computation graph)\n",
    "TensorFlow 프로그램은 크게 두 가지 단계로 구성되어 있습니다. 구성(construction) 단계에서는 그래프를 조립(assemble)하고, 실행(execution) 단계에서는 세션을 이용해 그래프의 연산을 실행합니다."
   ]
  },
  {
   "cell_type": "markdown",
   "metadata": {},
   "source": [
    "## 그래프 만들기\n",
    "그래프를 만들기 위해서는 Constant와 같이 어떤 입력도 필요로 하지 않는 연산(소스 연산)으로 시작하십시오. \n",
    "그리고 그 출력을 계산을 수행하는 다른 연산에 넘겨줍니다.\n",
    "\n",
    "파이썬 라이브러리의 연산 생성자(ops constructor)는 생성된 연산의 출력을 나타내는 객체를 반환합니다.\n",
    "우리는 이 객체를 다른 연산 생성자의 입력으로 넘겨줄 수 있습니다.\n",
    "\n",
    "TensorFlow 파이썬 라이브러리는 기본 그래프를 가지고 있는데, 연산 생성자가 이 그래프에 노드를 추가합니다.\n",
    "대부분의 경우에는 기본 그래프를 쓰는 것으로 충분합니다. \n",
    "여러 개의 그래프를 관리하는 법이 궁금하다면 Graph 클래스 문서를 참고하십시오."
   ]
  },
  {
   "cell_type": "code",
   "execution_count": null,
   "metadata": {},
   "outputs": [],
   "source": [
    "import tensorflow as tf\n",
    "\n",
    "# 1x2 형렬을 만드는 Constant 연산을 생성합니다.\n",
    "# 이 연산자는 기본 그래프의 노드로 추가됩니다.\n",
    "#\n",
    "# 생성자에 의해 반환된 값(matrix1)은 Constant 연산의 출력을 나타냅니다.\n",
    "matrix1 = tf.constant([[3., 3.]])\n",
    "\n",
    "# 2x1 행렬을 만드는 또 다른 Constant를 생성합니다.\n",
    "matrix2 = tf.constant([[2.],[2.]])\n",
    "\n",
    "# 'matrix1'과 'matrix2'를 입력으로 받는 Matmul 연산을 생성합니다.\n",
    "# 반환값인 'product'는 행렬을 곱한 결과를 나타냅니다.\n",
    "product = tf.matmul(matrix1, matrix2)"
   ]
  },
  {
   "cell_type": "code",
   "execution_count": null,
   "metadata": {},
   "outputs": [],
   "source": [
    "# 기본 그래프로 세션을 생성.\n",
    "sess = tf.Session()"
   ]
  },
  {
   "cell_type": "code",
   "execution_count": null,
   "metadata": {},
   "outputs": [],
   "source": [
    "# 연산의 출력은 'result'에 numpy의 `ndarray` 객체 형태로 저장됩니다. \n",
    "result = sess.run(product)\n",
    "print(result)\n",
    "# ==> [[ 12.]]\n",
    "\n",
    "# 다 끝났으면 세션을 닫아줍니다.\n",
    "sess.close()"
   ]
  }
 ],
 "metadata": {
  "kernelspec": {
   "display_name": "Python 3",
   "language": "python",
   "name": "python3"
  },
  "language_info": {
   "codemirror_mode": {
    "name": "ipython",
    "version": 3
   },
   "file_extension": ".py",
   "mimetype": "text/x-python",
   "name": "python",
   "nbconvert_exporter": "python",
   "pygments_lexer": "ipython3",
   "version": "3.6.3"
  }
 },
 "nbformat": 4,
 "nbformat_minor": 2
}
